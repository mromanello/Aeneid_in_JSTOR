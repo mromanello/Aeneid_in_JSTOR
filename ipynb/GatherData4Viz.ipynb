{
 "cells": [
  {
   "cell_type": "markdown",
   "metadata": {
    "collapsed": true
   },
   "source": [
    "## Rationale for the visualisation"
   ]
  },
  {
   "cell_type": "markdown",
   "metadata": {},
   "source": [
    "* generate bins of size 50 from 1 to 1,000\n",
    "* the *Aeneid* contains 12 books (see dictionary below for consistency)\n",
    "* create a matrix of 12 rows x 20 columns (dict of dicts)\n",
    "    * initialise the value of each bin to 0 or None (if the bin scope falls outside the number of lines in the book)\n",
    "* iterate through the results of the API and increment the count"
   ]
  },
  {
   "cell_type": "markdown",
   "metadata": {},
   "source": [
    "1. generate empty matrix\n",
    "2. get and store JSTOR MatchMaker data (quotations)\n",
    "3. get and store CREX data (references)\n",
    "4. iterate through quotations and update matrix\n",
    "5. iterate through references and update matrix\n",
    "6. output data in a d3.js-friendly JSON format"
   ]
  },
  {
   "cell_type": "code",
   "execution_count": 4,
   "metadata": {
    "collapsed": false
   },
   "outputs": [
    {
     "name": "stdout",
     "output_type": "stream",
     "text": [
      "total 42832\r\n",
      "-rw-rw-r-- 1 mromanello    57721 Aug 11 11:35 aeneid.json\r\n",
      "-rwxr--r-- 1 mromanello  1572864 Aug 18 11:01 \u001b[0m\u001b[01;32mcitedloci_api_output.json\u001b[0m*\r\n",
      "-rw-rw-r-- 1 mromanello 41306724 Aug 11 12:36 matchmaker_api_output.json\r\n",
      "-rwxrwxr-x 1 mromanello   758146 Aug 11 11:35 \u001b[01;32mperseus_aeneid.json\u001b[0m*\r\n",
      "-rw-rw-r-- 1 mromanello   114891 Aug 11 12:58 quot_freq3.json\r\n",
      "-rw-rw-r-- 1 mromanello    11298 Aug 11 11:35 quot_freq_empty2.json\r\n",
      "-rw-rw-r-- 1 mromanello     1290 Aug 11 11:35 quot_freq_empty.json\r\n",
      "-rw-rw-r-- 1 mromanello    18376 Aug 11 12:21 test.json\r\n"
     ]
    }
   ],
   "source": [
    "ll ../data/"
   ]
  },
  {
   "cell_type": "code",
   "execution_count": 7,
   "metadata": {
    "collapsed": false
   },
   "outputs": [],
   "source": [
    "import matplotlib; matplotlib.use('Agg')\n",
    "%matplotlib inline\n",
    "import ConfigParser\n",
    "import matplotlib.pyplot as plt\n",
    "import numpy as np\n",
    "import pandas as pd\n",
    "import pprint\n",
    "import json\n",
    "import requests\n",
    "import seaborn as sns;sns.set()\n",
    "import codecs\n",
    "from MyCapytain.common.reference import URN"
   ]
  },
  {
   "cell_type": "code",
   "execution_count": 118,
   "metadata": {
    "collapsed": false
   },
   "outputs": [],
   "source": [
    "def create_matrix():\n",
    "    \"\"\"\n",
    "    TODO.\n",
    "    \"\"\"\n",
    "    def chunks(l, n):\n",
    "        \"\"\"Yield successive n-sized chunks from l.\"\"\"\n",
    "        for i in xrange(0, len(l), n):\n",
    "            yield l[i:i+n]\n",
    "    # the number of lines for each book in the Aeneid\n",
    "    # keys are book numbers, values are numbers of lines\n",
    "    book_upper_boundaries = {\n",
    "        1:756\n",
    "        ,2:804\n",
    "        ,3:719\n",
    "        ,4:705\n",
    "        ,5:871\n",
    "        ,6:901\n",
    "        ,7:817\n",
    "        ,8:731\n",
    "        ,9:818\n",
    "        ,10:908\n",
    "        ,11:915\n",
    "        ,12:952\n",
    "    }\n",
    "    quotation_freq_matrix = {}\n",
    "    chunks = {(chunk[0],chunk[-1]):chunk for chunk in list(chunks(range(1,1001),50))}\n",
    "    for book_number in sorted(book_upper_boundaries.keys()):\n",
    "        max_line_number = book_upper_boundaries[book_number]\n",
    "        temp = {}\n",
    "        for range_start,range_end in chunks.keys():\n",
    "            if (range_start < max_line_number and range_end <= max_line_number):\n",
    "                temp[\"%i-%i\"%(range_start,range_end)] = {\"reference_count\":0,\"quotation_count\":0,\"results\":set()}\n",
    "            elif(range_start < max_line_number and range_end > max_line_number):\n",
    "                temp[\"%i-%i\"%(range_start,range_end)] = {\"reference_count\":0,\"quotation_count\":0,\"results\":set()}\n",
    "            else:\n",
    "                temp[\"%i-%i\"%(range_start,range_end)] = np.nan\n",
    "        quotation_freq_matrix[book_number] = temp\n",
    "        df = pd.DataFrame.from_dict(quotation_freq_matrix)\n",
    "    return df.reindex_axis(sorted(df.index\n",
    "                                ,key=lambda x: int(x.split('-')[0]))\n",
    "                                 ,axis=0), chunks"
   ]
  },
  {
   "cell_type": "code",
   "execution_count": 9,
   "metadata": {
    "collapsed": true
   },
   "outputs": [],
   "source": [
    "def save_matrix_as_json(matrix, filepath):\n",
    "    \"\"\"\n",
    "    Saves the matrix in a JSON and d3-friendly format.\n",
    "    \"\"\"\n",
    "    import codecs\n",
    "    import json\n",
    "    try:\n",
    "        data = json.loads(matrix.to_json(orient=\"split\"))\n",
    "        reshaped_data = [{\"chunk\":data[\"index\"][i]\n",
    "                  ,\"book\":data[\"columns\"][j]\n",
    "                  ,\"counts\":book} for i,chunk in enumerate(data[\"data\"]) \n",
    "                                                             for j,book in enumerate(chunk)]\n",
    "        json.dump(reshaped_data, codecs.open(filepath,\"w\",\"utf-8\"))\n",
    "        return True\n",
    "    except Exception as e:\n",
    "        print e\n",
    "        return False"
   ]
  },
  {
   "cell_type": "markdown",
   "metadata": {},
   "source": [
    "## Create an empty matrix data structure for the Aeneid\n",
    "\n",
    "columns = books; rows = line chunks of size n=50"
   ]
  },
  {
   "cell_type": "code",
   "execution_count": 47,
   "metadata": {
    "collapsed": false
   },
   "outputs": [],
   "source": [
    "df,chunks = create_matrix()"
   ]
  },
  {
   "cell_type": "code",
   "execution_count": 28,
   "metadata": {
    "collapsed": false
   },
   "outputs": [],
   "source": [
    "#df.head()"
   ]
  },
  {
   "cell_type": "code",
   "execution_count": 30,
   "metadata": {
    "collapsed": false
   },
   "outputs": [
    {
     "data": {
      "text/plain": [
       "True"
      ]
     },
     "execution_count": 30,
     "metadata": {},
     "output_type": "execute_result"
    }
   ],
   "source": [
    "save_matrix_as_json(df, \"../data/test.json\") # we let pandas serialize it as json, as it's very good at it"
   ]
  },
  {
   "cell_type": "markdown",
   "metadata": {},
   "source": [
    "## Query the MatchMaker API"
   ]
  },
  {
   "cell_type": "code",
   "execution_count": 37,
   "metadata": {
    "collapsed": true
   },
   "outputs": [],
   "source": [
    "def get_aeneid_quotations_in_JSTOR(path_credentials=\"authentication.conf\"):\n",
    "    \"\"\"\n",
    "    TODO\n",
    "    \"\"\"\n",
    "    matchmaker_endpoint = \"http://labs.jstor.org/apis/matchmaker/\"\n",
    "    parameters = {'work':'virgil_aeneid','limit':50000}\n",
    "    config = ConfigParser.ConfigParser(allow_no_value=True)\n",
    "    config.read(path_credentials)\n",
    "    credentials = (config.get(\"jstor\",\"user\"), config.get(\"jstor\",\"pwd\"))\n",
    "    response = requests.get(matchmaker_endpoint\n",
    "                            , params=parameters\n",
    "                            , auth=credentials)\n",
    "    data = response.json()\n",
    "    for doc in data[\"docs\"]:\n",
    "        doc[\"chunk_urns\"]  = [chunk_id.replace('<verg. aen. ','urn:cts:latinLit:phi0690.phi003:').replace('>','')\n",
    "                                                                                   for chunk_id in doc[\"chunk_ids\"]]\n",
    "    return data"
   ]
  },
  {
   "cell_type": "code",
   "execution_count": 38,
   "metadata": {
    "collapsed": false
   },
   "outputs": [],
   "source": [
    "mm_data = get_aeneid_quotations_in_JSTOR()"
   ]
  },
  {
   "cell_type": "code",
   "execution_count": 43,
   "metadata": {
    "collapsed": false
   },
   "outputs": [],
   "source": [
    "json.dump(mm_data,codecs.open(\"../data/matchmaker_api_output.json\",\"w\",\"utf-8\"))"
   ]
  },
  {
   "cell_type": "markdown",
   "metadata": {
    "collapsed": true
   },
   "source": [
    "### Iterate over the data and update the quotation frequency count"
   ]
  },
  {
   "cell_type": "code",
   "execution_count": 5,
   "metadata": {
    "collapsed": false
   },
   "outputs": [],
   "source": [
    "from flask_restful import marshal, fields"
   ]
  },
  {
   "cell_type": "markdown",
   "metadata": {},
   "source": [
    "Create a new empy matrix where to store the data and counts:"
   ]
  },
  {
   "cell_type": "code",
   "execution_count": 146,
   "metadata": {
    "collapsed": false
   },
   "outputs": [],
   "source": [
    "quotation_freq_df,chunks = create_matrix()"
   ]
  },
  {
   "cell_type": "markdown",
   "metadata": {},
   "source": [
    "Load the data that were previously fetched via the API and stored into a file"
   ]
  },
  {
   "cell_type": "code",
   "execution_count": 147,
   "metadata": {
    "collapsed": false
   },
   "outputs": [],
   "source": [
    "data = json.load(codecs.open(\"../data/matchmaker_api_output.json\",\"r\",\"utf-8\"))"
   ]
  },
  {
   "cell_type": "code",
   "execution_count": 148,
   "metadata": {
    "collapsed": true
   },
   "outputs": [],
   "source": [
    "#data[\"docs\"][2]"
   ]
  },
  {
   "cell_type": "markdown",
   "metadata": {},
   "source": [
    "Now define the fields for marshalling data into a new JSON structure"
   ]
  },
  {
   "cell_type": "code",
   "execution_count": 149,
   "metadata": {
    "collapsed": true
   },
   "outputs": [],
   "source": [
    "quotation_fields = {\n",
    "    \"document\":{\n",
    "        \"doi\": fields.String(attribute=\"docid\")\n",
    "        ,\"year\":fields.Raw(attribute=\"pubyear\")\n",
    "        ,\"pubdate\":fields.String\n",
    "        ,\"journaltitle\":fields.String(attribute=\"journal\")\n",
    "        ,\"author\": fields.List(fields.String, attribute=\"authors\")\n",
    "    }\n",
    "    ,\"id\": fields.String\n",
    "    ,\"snippet\":fields.String\n",
    "    ,\"all_urns\":fields.List(fields.String, attribute=\"chunk_urns\")\n",
    "}"
   ]
  },
  {
   "cell_type": "markdown",
   "metadata": {},
   "source": [
    "Transform the quotation records into an index: `quotation_id` => `quotation_record`"
   ]
  },
  {
   "cell_type": "code",
   "execution_count": 150,
   "metadata": {
    "collapsed": false
   },
   "outputs": [],
   "source": [
    "quotations = {doc[\"id\"]: dict(marshal(doc,quotation_fields)) for doc in data[\"docs\"]}"
   ]
  },
  {
   "cell_type": "code",
   "execution_count": 151,
   "metadata": {
    "collapsed": false
   },
   "outputs": [],
   "source": [
    "quoted_urns = [(urn,doc[\"id\"]) for doc in data[\"docs\"] for urn in doc[\"chunk_urns\"]]"
   ]
  },
  {
   "cell_type": "code",
   "execution_count": 152,
   "metadata": {
    "collapsed": false
   },
   "outputs": [
    {
     "data": {
      "text/plain": [
       "29941"
      ]
     },
     "execution_count": 152,
     "metadata": {},
     "output_type": "execute_result"
    }
   ],
   "source": [
    "len(quoted_urns)"
   ]
  },
  {
   "cell_type": "code",
   "execution_count": 19,
   "metadata": {
    "collapsed": false
   },
   "outputs": [
    {
     "data": {
      "text/plain": [
       "[(u'urn:cts:latinLit:phi0690.phi003:1.48',\n",
       "  u'000395a29c586c8ca10e4bbade544dde')]"
      ]
     },
     "execution_count": 19,
     "metadata": {},
     "output_type": "execute_result"
    }
   ],
   "source": [
    "#quoted_urns[:1]"
   ]
  },
  {
   "cell_type": "markdown",
   "metadata": {},
   "source": [
    "Go trough all quotations and add each `quotation_id` to the chunk where it falls:"
   ]
  },
  {
   "cell_type": "code",
   "execution_count": 153,
   "metadata": {
    "collapsed": false
   },
   "outputs": [],
   "source": [
    "for urn, quotation_id in quoted_urns:\n",
    "    quoted_urn = URN(urn)\n",
    "    book_n, line_n = quoted_urn.reference.list\n",
    "    book_n = int(book_n)\n",
    "    line_n = int(line_n)\n",
    "    for start_range,end_range in chunks:\n",
    "        # find the chunk in which the line falls\n",
    "        if (line_n >= start_range and line_n <= end_range):\n",
    "            if(quotation_freq_df.loc[\"%i-%i\"%(start_range,end_range)][book_n] is not np.nan):\n",
    "                #quotation_freq_df.loc[\"%i-%i\"%(start_range,end_range)][book_n][\"quotation_count\"] +=1 \n",
    "                quotation_freq_df.loc[\"%i-%i\"%(start_range,end_range)][book_n][\"results\"].add(('quotation'\n",
    "                                                                                               , quotation_id))"
   ]
  },
  {
   "cell_type": "code",
   "execution_count": 26,
   "metadata": {
    "collapsed": true
   },
   "outputs": [
    {
     "data": {
      "text/plain": [
       "{('quotation', u'000395a29c586c8ca10e4bbade544dde'),\n",
       " ('quotation', u'00192bb4cee556ebcf39d1fd2cebc063'),\n",
       " ('quotation', u'0248a034f950cf037a4e5f24be9516aa'),\n",
       " ('quotation', u'03092a060b63e5daebb3d232aec3d19b'),\n",
       " ('quotation', u'0382803b8415f0dbb617de87321db089'),\n",
       " ('quotation', u'048beffd0fe6895b48a9dc67c8610d66'),\n",
       " ('quotation', u'05b85c7c73190a493e234fb0fe2222a6'),\n",
       " ('quotation', u'06be8dd2df8bd4bd05f916a7394ce2e7'),\n",
       " ('quotation', u'08091d46c47e89bbb0c37628e0b82a62'),\n",
       " ('quotation', u'0a5a287247bcb1707716a32966c110e7'),\n",
       " ('quotation', u'0a7fdb05120fe6be4b668864baf6d506'),\n",
       " ('quotation', u'0a9c70923626a2e973281cd493c8a856'),\n",
       " ('quotation', u'0b2f4098ec1fe489fd7a7e547b85036c'),\n",
       " ('quotation', u'0b771fb9bcfa9d78bd2471165fcbf04b'),\n",
       " ('quotation', u'0c0f852bc7afa4925cfd48857a78d3a0'),\n",
       " ('quotation', u'0ce9b05ac758fd39b7e4b6a7cb2f6df7'),\n",
       " ('quotation', u'0db4987750ac8459fc72614930d171f2'),\n",
       " ('quotation', u'0ddd2adc2079b7481dff3228208213d2'),\n",
       " ('quotation', u'0e3b02b048481b42910095f75d65017b'),\n",
       " ('quotation', u'0fd092f2576a0d4d39dd0171949a0a5b'),\n",
       " ('quotation', u'102f290c08672379d79c9f9417fbb2fe'),\n",
       " ('quotation', u'12af6110f58714d67280aee54beaa287'),\n",
       " ('quotation', u'12b8098ea7a27a1ce7975394bae76b50'),\n",
       " ('quotation', u'13598a98d6b78e7e240b3bc5de42c7d1'),\n",
       " ('quotation', u'14c1e12de0c2387bdedb7d228ca3c1ec'),\n",
       " ('quotation', u'15184c7c7297db6c86f01688800808a6'),\n",
       " ('quotation', u'165acf385e5a079af8bdc6da994512ee'),\n",
       " ('quotation', u'17e51a86340a1eee6f8860a13d8c3459'),\n",
       " ('quotation', u'1819510d89325b6172a098d7555b4769'),\n",
       " ('quotation', u'18688e8087ea79078c9cb7c1b2b16926'),\n",
       " ('quotation', u'1897a788f282f714738ccd26b17eb024'),\n",
       " ('quotation', u'18e354eaf022c1047a52bdff206ebf3a'),\n",
       " ('quotation', u'18f33c07f271e9cab53a326d931eec48'),\n",
       " ('quotation', u'19b9284b030bfac99a164ebb2bbbea22'),\n",
       " ('quotation', u'1af03217e0d538b3f3fc8cd2b19fc5ca'),\n",
       " ('quotation', u'1ce05bbba8d2cca9c2635dcff6236bc9'),\n",
       " ('quotation', u'1cf3f71333b84981ad33ea7b83df1c15'),\n",
       " ('quotation', u'1efaaa36b2eecd43f9bea8ef113f9e48'),\n",
       " ('quotation', u'1f2111a1039023c86fd4cbb5a4397f8b'),\n",
       " ('quotation', u'1f354db18b120f511c5d9e9f996c33eb'),\n",
       " ('quotation', u'219b905814ee5883e465111408a55021'),\n",
       " ('quotation', u'225f4a8ea177fe289c8a47d1ddd83648'),\n",
       " ('quotation', u'229adf4adfe57fffb008234ec916a8de'),\n",
       " ('quotation', u'241250f13d068afbdb16a251317d9430'),\n",
       " ('quotation', u'244eb61d29872c274c7f2b0b590a5b6c'),\n",
       " ('quotation', u'254c8cb02272ec38a26dd37a25e58592'),\n",
       " ('quotation', u'25c11f71aa8e3e5ad5436cba888aab31'),\n",
       " ('quotation', u'275c633513f00d75b82c8772959e9e31'),\n",
       " ('quotation', u'28d510e6b368c6557dbbcabf52f8413d'),\n",
       " ('quotation', u'2b50cc2811b53b5e7449df31755bcf62'),\n",
       " ('quotation', u'2b5273dc1a37d2ae49046691103f7a3f'),\n",
       " ('quotation', u'2b5405a002e8cee31b332dd5638ed06e'),\n",
       " ('quotation', u'2b6798e0b1d9232316b95ae8593d3c69'),\n",
       " ('quotation', u'2c7efa18071d81d0e6c1dfca9cdfa2e4'),\n",
       " ('quotation', u'2c8b4196b2f5675f03db6f45e8c264d4'),\n",
       " ('quotation', u'2d688315983d2477e529dada22ec6764'),\n",
       " ('quotation', u'2f504927523eb687d6b705eb662f4c35'),\n",
       " ('quotation', u'303b451730000a5b2b8aac5e7d17b6d4'),\n",
       " ('quotation', u'30651ab0020be5b0adff8691069d8b8f'),\n",
       " ('quotation', u'30ad75902198ddc5bb0d9808f5bf0115'),\n",
       " ('quotation', u'30d9b8a128b82d81ac4e8522b414f8bd'),\n",
       " ('quotation', u'316253adf0fe327c045f08e748ea1ab1'),\n",
       " ('quotation', u'31887b8f1834b874371ee948b2c8c369'),\n",
       " ('quotation', u'328cf4c7f247eadb381571dac91a79a5'),\n",
       " ('quotation', u'32baff982ee527e4a7467b4a0306580b'),\n",
       " ('quotation', u'33ac39b109abb55178b1d690e27d049a'),\n",
       " ('quotation', u'3669881d9d586e9c05d137ffc3b01284'),\n",
       " ('quotation', u'36cb896fe5ca86556636448664c84134'),\n",
       " ('quotation', u'37029d77d6757030d643d5c429a843d3'),\n",
       " ('quotation', u'3811624e0a48e9ec5913ff4ca76332b8'),\n",
       " ('quotation', u'38fb1abf5a88294d83cb862356b65e1f'),\n",
       " ('quotation', u'393e27a43bfc81185d9a19d67f651c76'),\n",
       " ('quotation', u'398dac04c9b405cca46bf1b42bcfbbf3'),\n",
       " ('quotation', u'39ea5b433703650a49af1a28a05ccdd1'),\n",
       " ('quotation', u'3b15fee0e62bc506ad2348d9b05fe2ea'),\n",
       " ('quotation', u'3b46dafe81d86826415dc9dad5df546c'),\n",
       " ('quotation', u'3c6a1bf5771fccd985e21f7e64f0cfb2'),\n",
       " ('quotation', u'3ecd5834630b163e71fb2d8c3125bb65'),\n",
       " ('quotation', u'3f72c048637d6567fa7f1e414f953555'),\n",
       " ('quotation', u'409d5a1928bc5c4ca7543b495f90ace6'),\n",
       " ('quotation', u'40f7e3afd032da2b529e8d179e8bbd68'),\n",
       " ('quotation', u'4133d91f6075b7a0e8eee4eb3caa10c2'),\n",
       " ('quotation', u'4164da85ae8a639ab5dc7661e02f5c7e'),\n",
       " ('quotation', u'4431cbb797ebf2abca0567389a4e8075'),\n",
       " ('quotation', u'444da4147f9180fb058552c561d5e7ab'),\n",
       " ('quotation', u'454943c7af6942552565c8289ea161ff'),\n",
       " ('quotation', u'455be6ecb11041f41ba95dcadb223fdb'),\n",
       " ('quotation', u'45a66de30ecef9663c1b6b488cf1b491'),\n",
       " ('quotation', u'46f9466f25a21efe120fe144b0c92c8e'),\n",
       " ('quotation', u'477cd34a370b8620682fc18f903ad13d'),\n",
       " ('quotation', u'479542bb9ee34dd836aa629e12f79538'),\n",
       " ('quotation', u'48b672e36031122bffb5d0f2edf8af22'),\n",
       " ('quotation', u'48cad5981ef9725b751b5abe55df3679'),\n",
       " ('quotation', u'4ab26e127ccaa5e5cf6ba992c6a5aed6'),\n",
       " ('quotation', u'4c8668a4ab18e017500ae2d91d1231d5'),\n",
       " ('quotation', u'4e846304ae2f7b0f08e5d2f0358f7a51'),\n",
       " ('quotation', u'4ea119c2e84f06be44b3f747601954d0'),\n",
       " ('quotation', u'4f0160f40f627037693d135ed3ef3952'),\n",
       " ('quotation', u'4f16cf3372ae16beb4d215e299075587'),\n",
       " ('quotation', u'505de70f495e73f4d84b08ff599773eb'),\n",
       " ('quotation', u'50a983636bea14c2a7aa91c4b9a729c0'),\n",
       " ('quotation', u'513323bcb7bc9ea8724d6c38b0fff6a9'),\n",
       " ('quotation', u'5239bc03718ab31236c5af4e26aa5bbe'),\n",
       " ('quotation', u'53c45f2b6f4c817a8d386bb22aabf652'),\n",
       " ('quotation', u'54a01c3d160b5e36cc78901d0c0bd612'),\n",
       " ('quotation', u'56fed9449b4a3dfb80750e3b7d5238ea'),\n",
       " ('quotation', u'577076cb4cc4afa672cefe8e9804755f'),\n",
       " ('quotation', u'57968ada55c105d9423e4e4f8eb12cfb'),\n",
       " ('quotation', u'5827f925edf7d35e0b73a20bd1ca8ea3'),\n",
       " ('quotation', u'5987a74d30ab1085b9ddcbca126dcba3'),\n",
       " ('quotation', u'5a87d05798f22d276a806911ad52bfda'),\n",
       " ('quotation', u'5aa36b26ce68849239cd0ceda3df03a6'),\n",
       " ('quotation', u'5abaa5267ab3bdf6c5e84ad269bb873c'),\n",
       " ('quotation', u'5abb9194e394bb9286f2135ed722535a'),\n",
       " ('quotation', u'5ccbb00dbac3c5bbb58497622f7aa83d'),\n",
       " ('quotation', u'5d19a2e2a12cfc344e6b1cdcd039acc8'),\n",
       " ('quotation', u'5d48c1c8f26f77247ba75b5c307905f7'),\n",
       " ('quotation', u'6006d439783bdc23a5cd6228f0239e4a'),\n",
       " ('quotation', u'6027c5d98b8efb266a9396f2323efc84'),\n",
       " ('quotation', u'606e813ce62f62bc0679182f02f6f988'),\n",
       " ('quotation', u'626f7f155e2abcdf631c5823bee06e11'),\n",
       " ('quotation', u'628e2dd81fe0173650e1dcbc716a0cd0'),\n",
       " ('quotation', u'62a379960e63a46866e17dc7cbe4c5fb'),\n",
       " ('quotation', u'63622f71aba8a6db29284557a0bc4fd9'),\n",
       " ('quotation', u'64941fec58e0a54ec3ddacea36dce690'),\n",
       " ('quotation', u'6682cdb16e12c39fac45aa23a18ddb60'),\n",
       " ('quotation', u'66bbca15b16d3a141229983728a208f2'),\n",
       " ('quotation', u'671119d9ac888ae93a859306127cba65'),\n",
       " ('quotation', u'676714d69f132e9742bdd4b9d3ec07cb'),\n",
       " ('quotation', u'69eab75be0586a822a38570658836041'),\n",
       " ('quotation', u'6a9021e08b7e906aa4fbab27670d4aae'),\n",
       " ('quotation', u'6bb41c942139c3723886d7a8acdb64fa'),\n",
       " ('quotation', u'6c8037771f843d081b9773f53c59a6b0'),\n",
       " ('quotation', u'6e38e5ac72dce5d73d1433fab7e7165b'),\n",
       " ('quotation', u'6e53376da5d273dad545a938bddbd9ab'),\n",
       " ('quotation', u'6ea3dcf62be5d99e372afe31f1500b5b'),\n",
       " ('quotation', u'6eb2718d955e67c0acccb35a5b0fbc67'),\n",
       " ('quotation', u'6f34ea837dd6c56aba3be5a570d3e494'),\n",
       " ('quotation', u'7047c53df79c47b6e16a8f8a7b9a5fcc'),\n",
       " ('quotation', u'71318fc8eca9d459c5fab6f1d7a78b73'),\n",
       " ('quotation', u'71619cb6a77dc2857b18f1ac5f3b87e5'),\n",
       " ('quotation', u'71a4a86aca819283562d866a63ca02b9'),\n",
       " ('quotation', u'72c908e631c40fd2ea21e11f2aa54758'),\n",
       " ('quotation', u'72f24925dc28690dbeafbaa2a7b2c8f2'),\n",
       " ('quotation', u'7471083515096aa65a7b46d9dc9c47dc'),\n",
       " ('quotation', u'74a871d96c5526cb60d1facfaf924e96'),\n",
       " ('quotation', u'7609ec6f887da96619c34946b6e261fc'),\n",
       " ('quotation', u'77784d3ec263b601fa6c2e8ab7f5ef0d'),\n",
       " ('quotation', u'778fbb40dd6f43820b3e95086bca12fc'),\n",
       " ('quotation', u'78492992430e1872972dd8db31524cc8'),\n",
       " ('quotation', u'7943cdb1c10f3f22a5e5fea205ff5a0e'),\n",
       " ('quotation', u'7a18005b41ab24c092b6bebc7ec739c4'),\n",
       " ('quotation', u'7b031931f8f452b7186e450d5d65248f'),\n",
       " ('quotation', u'7b8812bc2563ff9b0502ef7524b8407b'),\n",
       " ('quotation', u'7bdafb2e7bcb0b7cba60a4f43e1355a5'),\n",
       " ('quotation', u'80fc85fbde44f14232d897ead684b792'),\n",
       " ('quotation', u'825137a56aee340440474ab45bbadb46'),\n",
       " ('quotation', u'825ee15345211a9f9c723d9365712cb6'),\n",
       " ('quotation', u'8261daf48e03281f7528e22ea9c7a4ca'),\n",
       " ('quotation', u'82825f124d97684d45f3101ea5ec68ae'),\n",
       " ('quotation', u'833edc2d1d3b9d44cb8b9e962bdbc6d9'),\n",
       " ('quotation', u'83424fe412148d82ce9094f65575a8ca'),\n",
       " ('quotation', u'8481c977ba369ee8e021def4a3d0441c'),\n",
       " ('quotation', u'853e78ac58091592393394d99eba7abc'),\n",
       " ('quotation', u'85845bb1ac4756765d32074af65323a8'),\n",
       " ('quotation', u'86c7bb25df05f0c87262717e78588209'),\n",
       " ('quotation', u'8760329688a6a850c51f7782a7d3bc3c'),\n",
       " ('quotation', u'876d9baaa7c7465b7d9dc95a524ae645'),\n",
       " ('quotation', u'8a0db2b82b22c2cc7786b56979aecd12'),\n",
       " ('quotation', u'8a2bf1761d1c8ede1ee1d6e850f9851e'),\n",
       " ('quotation', u'8a827efff4d9b78744df75f8231fb526'),\n",
       " ('quotation', u'8d008057cec49902619d8bb1dfb93bf5'),\n",
       " ('quotation', u'8db7b98f1358acad514c7abbfd70128c'),\n",
       " ('quotation', u'8ea84f818e89444604fd0671cfd15bba'),\n",
       " ('quotation', u'917c87f37f637b35dea644fb7de6e2e7'),\n",
       " ('quotation', u'919cb55d6a60a466d915fa8ec5576231'),\n",
       " ('quotation', u'9273221a605012ec99e3d85487934e9f'),\n",
       " ('quotation', u'93c3ae70b18efbde20e068981273d94b'),\n",
       " ('quotation', u'93eff5e425b96eaa97670d1b5556902d'),\n",
       " ('quotation', u'93fad983911321a3cb9c8560100a2fae'),\n",
       " ('quotation', u'942949d95c835718db80ab66387e0c32'),\n",
       " ('quotation', u'943f058f9cfdf7ed67e4ebf2bdfa9828'),\n",
       " ('quotation', u'94d4cc6066eb1bb734c85c076f43c08d'),\n",
       " ('quotation', u'950a7c988d05402d5c1c2da22c5a16d1'),\n",
       " ('quotation', u'95b23cde79450952e43908f234db8594'),\n",
       " ('quotation', u'95da008ab0b1eaf5f8609608e320e976'),\n",
       " ('quotation', u'9862f3eac032e19d971b92b0bca44c93'),\n",
       " ('quotation', u'98c25d8f256694c8f5059253c9de0969'),\n",
       " ('quotation', u'98f5ee8cd545c8a77b8f0556707298fe'),\n",
       " ('quotation', u'99a48b4aaa2ec7d2e2e9d4f4dc2a1f11'),\n",
       " ('quotation', u'9d2deb12d80e98d78eef70f550d2db8f'),\n",
       " ('quotation', u'9d35d6d4b9e67269305a611b55aa38ad'),\n",
       " ('quotation', u'9d75cf720c41e9f145fd8005db40dd27'),\n",
       " ('quotation', u'9e1f723a842c322c5e5f69aa90943a9e'),\n",
       " ('quotation', u'9e8919bd1c5e85face4c1e4a3425fa5a'),\n",
       " ('quotation', u'9f0a8bd1a93dbc784a9b7c0ed29c84e3'),\n",
       " ('quotation', u'a25accac6ff0bb1e32dd0ac34401f03d'),\n",
       " ('quotation', u'a2afd3a383359c47c4dfc0deebcf0e44'),\n",
       " ('quotation', u'a2e95234f42e0c8e8bd7e2f4f0e48691'),\n",
       " ('quotation', u'a31f0aebb271322c2d25505172cadc37'),\n",
       " ('quotation', u'a4041064d8a81dbb6b644dc7c5dbc51e'),\n",
       " ('quotation', u'a6467c2285d950516010070100115210'),\n",
       " ('quotation', u'a655044970f87209d44fa4bbd32515aa'),\n",
       " ('quotation', u'a6c514e5511f00c2e46355d69ad37781'),\n",
       " ('quotation', u'a73406ca49482a20a28476edd0ccac6d'),\n",
       " ('quotation', u'a734d52501dcc4e8e6aecbc4f2b296d3'),\n",
       " ('quotation', u'aa9d00db0726ee713095759627aa2377'),\n",
       " ('quotation', u'aaae3cb6dd0070c0be3b97817609bf2b'),\n",
       " ('quotation', u'ab1757b7f66c30770ebce2232a425e4c'),\n",
       " ('quotation', u'ab394e5e7d3ebe06a0e6c66c4c1d788c'),\n",
       " ('quotation', u'ac6726bbb2667ea788ab5dfad80d8d0a'),\n",
       " ('quotation', u'ad29e2286d7b78396ae8291b219c7c1a'),\n",
       " ('quotation', u'ad4e49991d2ccb9a16314d19b1d96354'),\n",
       " ('quotation', u'aef85a57f088a742aa3db6dc0a2d583a'),\n",
       " ('quotation', u'afc0b2f98e2c789ff73266afa8fd2089'),\n",
       " ('quotation', u'b126ffc9acda96636b57eb92358f7bfb'),\n",
       " ('quotation', u'b2d81cd51dfa45c465b0a46fde3044f8'),\n",
       " ('quotation', u'b3814056621a6c7a41f8d8663022cbad'),\n",
       " ('quotation', u'b5205219f034a434248b0b9e4f91936f'),\n",
       " ('quotation', u'b5aadb97e77e79a7b979ffad582d2e89'),\n",
       " ('quotation', u'b6f8a0de1fb99203284ebf3fd4a93e5c'),\n",
       " ('quotation', u'b717f574da8456094259e23d54eddeec'),\n",
       " ('quotation', u'b77836c3dd496349b8609d0c7991d3ea'),\n",
       " ('quotation', u'b782b940f80716d4e2055c861c4d29b1'),\n",
       " ('quotation', u'b9a976762baebea9d74e821ddeb1f572'),\n",
       " ('quotation', u'ba0c205e9e353647378c84f087f71157'),\n",
       " ('quotation', u'ba6f2353ccce09261f2ac711ffbfea57'),\n",
       " ('quotation', u'ba77680f962cd8c51076f2a4d08f0bae'),\n",
       " ('quotation', u'baf17885723455d800061e76686356e3'),\n",
       " ('quotation', u'bbfe177a62d9cb4fe3f54e4bffb3aaf4'),\n",
       " ('quotation', u'bd17f97e7029de6327c77c5eea6ba122'),\n",
       " ('quotation', u'bf7c049d66278dbfe8ee658bc4bfa718'),\n",
       " ('quotation', u'c205f2267d116b783f1d9ac4bb5565ad'),\n",
       " ('quotation', u'c29ff60f3acdf05f6a540076ce888aa6'),\n",
       " ('quotation', u'c5dd98cd83d6fcfffef612743e8952d9'),\n",
       " ('quotation', u'c687bcdc8eb94999c34ab6c03e2b702e'),\n",
       " ('quotation', u'c6faf17edbf46ebbfa8560cb29a0182a'),\n",
       " ('quotation', u'c6fc7fb4c330500ccac6f13a09e2f48a'),\n",
       " ('quotation', u'c70911d32ea7ab058eb2a4aecdab3a26'),\n",
       " ('quotation', u'c8e5ed76bec8b77a2792143fd16ec5c3'),\n",
       " ('quotation', u'c8e72583867477298370281ad4af6fef'),\n",
       " ('quotation', u'c8ecc2ea4311246b25133212fbac2990'),\n",
       " ('quotation', u'ca034c68bb24996c2da769c64bdfa879'),\n",
       " ('quotation', u'ca92fad981ee32301c60dd8f092d3eb1'),\n",
       " ('quotation', u'cacf35619ceec3513ac8cf66eceeb9cb'),\n",
       " ('quotation', u'cad77e8e136203f13229d80f7ae392dc'),\n",
       " ('quotation', u'cb223a2b6478490e49f4f7451ddd31e8'),\n",
       " ('quotation', u'ce45a9b39f9f39452c59ba80b5334da4'),\n",
       " ('quotation', u'cfa3b403fdf7fba6974b0235b3e7cb29'),\n",
       " ('quotation', u'd029efe76cbf71ef6295f19abea5b73d'),\n",
       " ('quotation', u'd039c9b4249a8809076ff51af7975bea'),\n",
       " ('quotation', u'd162e22d6270a4b89514b30151c0aeda'),\n",
       " ('quotation', u'd2fb38c8f957e0e458738741593369bb'),\n",
       " ('quotation', u'd33a065665b66105eda67341a24ebfc0'),\n",
       " ('quotation', u'd4be02049fdfdab39ec6a44c80befb5e'),\n",
       " ('quotation', u'd5ad498354d5c35c7f38899866fa5ca4'),\n",
       " ('quotation', u'd60b020c006d4784c971c24eafab6438'),\n",
       " ('quotation', u'd6347459a8851ff16fa17980edf42346'),\n",
       " ('quotation', u'd663d3a59f8cca91355fb51005f8b2da'),\n",
       " ('quotation', u'd69a67e2735bc384ae2b235a3fd37e8b'),\n",
       " ('quotation', u'd6f4d4ff3d95a46a8d23985df5ee4149'),\n",
       " ('quotation', u'd833ebbc972087b1dcf377435f626e7f'),\n",
       " ('quotation', u'd9246915d5d81911e5aac408936a73ac'),\n",
       " ('quotation', u'd93d4cf55ca346a6138356b656a4f728'),\n",
       " ('quotation', u'd9d1eea32f215a15922b9e3f0fa3af7d'),\n",
       " ('quotation', u'da1d5c330790b28b0c8661a8d4786e55'),\n",
       " ('quotation', u'da670736b52630e5686e65fbbd1eb7b9'),\n",
       " ('quotation', u'db038c20d256fca2bcd779ba09bb1254'),\n",
       " ('quotation', u'db2bdcb590e4934c3f2cd89acf85caa2'),\n",
       " ('quotation', u'dc26dfd102a06cd1a9e292875476c9de'),\n",
       " ('quotation', u'dc9a1c2ea7622dfe1dfce2f903f9291d'),\n",
       " ('quotation', u'dcdf29e9fa59d1b8958f8f859ea2592a'),\n",
       " ('quotation', u'dd5b8d615879d50dfe5e95bc596ec0f3'),\n",
       " ('quotation', u'de0b15bc00bfcd3dd1f6966340451f21'),\n",
       " ('quotation', u'de7416df9ceaf2757cd0f61855b9a82c'),\n",
       " ('quotation', u'df623b97d6ff947551ee8fa68817855e'),\n",
       " ('quotation', u'df9a6c41c3c9948a4cbc2381b176bdd1'),\n",
       " ('quotation', u'e23d3bcfbdb1c0d3da31ef6d4b4c37db'),\n",
       " ('quotation', u'e2a40d47ea95cdf840569e61b199642d'),\n",
       " ('quotation', u'e318705a0359ff30be986dcceb4c9ac6'),\n",
       " ('quotation', u'e34ace3d095b024a9b8daecb741599a7'),\n",
       " ('quotation', u'e359dcb273c7ae16ceacd8b9e10bd7d3'),\n",
       " ('quotation', u'e61d5f99464b00b7dcedef98a59a857f'),\n",
       " ('quotation', u'e67443f45e7d5b2275907d04b98e441e'),\n",
       " ('quotation', u'e7072eafe036dcfabd246b9230fb4090'),\n",
       " ('quotation', u'e7340d2f12011279a286c538b4548777'),\n",
       " ('quotation', u'e7a965baaeaa1a9a40d1fbb42303a8a1'),\n",
       " ('quotation', u'e80fb75e403fa9232a041733faee0979'),\n",
       " ('quotation', u'e84dcac5030f6791e737e8f089d3a0cb'),\n",
       " ('quotation', u'e89681a3f637eca2e9b21f3c9c862807'),\n",
       " ('quotation', u'ea416f262b91c329c41b2b8d3c12e573'),\n",
       " ('quotation', u'ea57cfb9807f3c2cb95364d03c666b0c'),\n",
       " ('quotation', u'ea5a45faddf31f85856a52ad22a844c2'),\n",
       " ('quotation', u'ead50ea67ed52060d05e617b6c3eca72'),\n",
       " ('quotation', u'eb59bfa1561728cf29659776131942a5'),\n",
       " ('quotation', u'ebd5ed88e7748b2520ac82870ef68eb7'),\n",
       " ('quotation', u'ed92e2616164aa25e9b56fca5b2c3cc0'),\n",
       " ('quotation', u'ef07b8d6d363659fb518019701458554'),\n",
       " ('quotation', u'f1f011bd60107a496282bbd8e62813d4'),\n",
       " ('quotation', u'f481a1ab909ca254e307e281cbfbdf2c'),\n",
       " ('quotation', u'f48326fecf5d466f168833e86ed2fab7'),\n",
       " ('quotation', u'f49a7aaf4301b37d2a33804ca3c9a159'),\n",
       " ('quotation', u'f628876816066bc4ae50cba8f5316472'),\n",
       " ('quotation', u'f749034a5f22614b7ca01eafcf9660a1'),\n",
       " ('quotation', u'f77aad0b0f7002795c9abc625e036898'),\n",
       " ('quotation', u'f77c5aba362da37f9a9b8e6ea5a3dfa9'),\n",
       " ('quotation', u'f7e2e93168cba4571aaa6dd33d1e7904'),\n",
       " ('quotation', u'f8b5dbae0dde28ce47f4d94572d1d8ce'),\n",
       " ('quotation', u'fab227104017dd1af053d044067d1cc9'),\n",
       " ('quotation', u'fbd585209a54339cda82c5cf53f7993c'),\n",
       " ('quotation', u'fbf307b24967dcf9004bdfd13adeceb3'),\n",
       " ('quotation', u'fc72ed7700d02b6c305841102d626237'),\n",
       " ('quotation', u'fddd6ff727b4d69c0b713457fd5ced72'),\n",
       " ('quotation', u'fef3737c55ac6da64a2946cbfddcb0f1')}"
      ]
     },
     "execution_count": 26,
     "metadata": {},
     "output_type": "execute_result"
    }
   ],
   "source": [
    "#quotation_freq_df.loc[\"1-50\"][1][\"results\"]"
   ]
  },
  {
   "cell_type": "code",
   "execution_count": 154,
   "metadata": {
    "collapsed": false
   },
   "outputs": [],
   "source": [
    "for chunk in quotation_freq_df.index:\n",
    "    for book in quotation_freq_df.loc[chunk]:\n",
    "        if book is not np.nan:\n",
    "            book[\"quotation_count\"] = len(book[\"results\"])\n",
    "            book[\"results\"]  = [quotations[record_id] for record_type, record_id in book[\"results\"] \n",
    "                                                                                   if record_type==\"quotation\"]\n",
    "            for record in book[\"results\"]:\n",
    "                # TODO: parse pubdate into a datetime obj\n",
    "                record[\"type\"] = \"quotation\"\n",
    "                record[\"document\"][\"url\"] = \"%s%s\"%(\"http://www.jstor.org/stable/\",record[\"document\"][\"doi\"])"
   ]
  },
  {
   "cell_type": "code",
   "execution_count": 155,
   "metadata": {
    "collapsed": false
   },
   "outputs": [
    {
     "data": {
      "text/plain": [
       "True"
      ]
     },
     "execution_count": 155,
     "metadata": {},
     "output_type": "execute_result"
    }
   ],
   "source": [
    "save_matrix_as_json(quotation_freq_df, \"../data/quot_freq5.json\")"
   ]
  },
  {
   "cell_type": "markdown",
   "metadata": {},
   "source": [
    "## Query the CitedLoci API"
   ]
  },
  {
   "cell_type": "markdown",
   "metadata": {},
   "source": [
    "### Load the data about references to the Aeneid"
   ]
  },
  {
   "cell_type": "code",
   "execution_count": 22,
   "metadata": {
    "collapsed": true
   },
   "outputs": [],
   "source": [
    "my_data = json.load(codecs.open(\"../data/citedloci_api_output.json\",\"r\",\"utf-8\"))"
   ]
  },
  {
   "cell_type": "code",
   "execution_count": 24,
   "metadata": {
    "collapsed": false
   },
   "outputs": [
    {
     "data": {
      "text/plain": [
       "{u'document': {u'doi': u'10.2307/1562134',\n",
       "  u'title': u'The Way We Used to Eat: Diet_ Community_ and History at Rome'},\n",
       " u'line_number': 252,\n",
       " u'reference_type': u'scope',\n",
       " u'snippet': u'Another preoccupation of the De gente, which is inviting for the cultural historian, was what, and from which people, the Romans copied : \"quid a quaque traxerint gente per imitationem\" (fr. 21 Peter, Servius, ad <em>Aen.</em> <em>7.176).</em>',\n",
       " u'surface': u'Aen. 7.176).',\n",
       " u'urns': {u'author_urn': u'urn:cts:latinLit:phi0690',\n",
       "  u'reference_urn': u'urn:cts:latinLit:phi0690.phi003:7.176',\n",
       "  u'work_urn': u'urn:cts:latinLit:phi0690.phi003'}}"
      ]
     },
     "execution_count": 24,
     "metadata": {},
     "output_type": "execute_result"
    }
   ],
   "source": [
    "my_data[\"result\"][0]"
   ]
  },
  {
   "cell_type": "code",
   "execution_count": 40,
   "metadata": {
    "collapsed": false
   },
   "outputs": [],
   "source": [
    "referenced_urns = [(doc[\"urns\"][\"reference_urn\"]\n",
    "                    ,URN(doc[\"urns\"][\"reference_urn\"]).reference.list) for doc in my_data[\"result\"]\n",
    "                                                    if URN(doc[\"urns\"][\"reference_urn\"]).reference.list is not None\n",
    "                                                      and len(URN(doc[\"urns\"][\"reference_urn\"]).reference.list)==2]"
   ]
  },
  {
   "cell_type": "code",
   "execution_count": 41,
   "metadata": {
    "collapsed": false
   },
   "outputs": [
    {
     "data": {
      "text/plain": [
       "12056"
      ]
     },
     "execution_count": 41,
     "metadata": {},
     "output_type": "execute_result"
    }
   ],
   "source": [
    "len(referenced_urns)"
   ]
  },
  {
   "cell_type": "code",
   "execution_count": 46,
   "metadata": {
    "collapsed": false
   },
   "outputs": [
    {
     "data": {
      "text/plain": [
       "[(u'urn:cts:latinLit:phi0690.phi003:7.176', [u'7', u'176'])]"
      ]
     },
     "execution_count": 46,
     "metadata": {},
     "output_type": "execute_result"
    }
   ],
   "source": [
    "referenced_urns[:1]"
   ]
  },
  {
   "cell_type": "code",
   "execution_count": 53,
   "metadata": {
    "collapsed": false
   },
   "outputs": [],
   "source": [
    "invalid_citations = []\n",
    "for urn in referenced_urns:\n",
    "    referenced_urn = URN(urn[0])\n",
    "    book_n, line_n = referenced_urn.reference.list\n",
    "    book_n = int(book_n)\n",
    "    line_n = int(line_n)\n",
    "    for start_range,end_range in chunks:\n",
    "        # find the chunk in which the line falls\n",
    "        if (line_n >= start_range and line_n <= end_range):\n",
    "            try:\n",
    "                if(quotation_freq_df.loc[\"%i-%i\"%(start_range,end_range)][book_n] is not np.nan):\n",
    "                    quotation_freq_df.loc[\"%i-%i\"%(start_range,end_range)][book_n][\"reference_count\"] +=1 \n",
    "            except Exception as e:\n",
    "                invalid_citations.append(urn[0])"
   ]
  },
  {
   "cell_type": "code",
   "execution_count": 58,
   "metadata": {
    "collapsed": false
   },
   "outputs": [
    {
     "data": {
      "text/plain": [
       "True"
      ]
     },
     "execution_count": 58,
     "metadata": {},
     "output_type": "execute_result"
    }
   ],
   "source": [
    "save_matrix_as_json(quotation_freq_df, \"../data/quot_freq4.json\")"
   ]
  },
  {
   "cell_type": "markdown",
   "metadata": {},
   "source": [
    "## Plot"
   ]
  },
  {
   "cell_type": "code",
   "execution_count": 16,
   "metadata": {
    "collapsed": false
   },
   "outputs": [
    {
     "data": {
      "text/plain": [
       "<matplotlib.text.Text at 0xefc6690>"
      ]
     },
     "execution_count": 16,
     "metadata": {},
     "output_type": "execute_result"
    },
    {
     "data": {
      "image/png": "[encoded data removed]",
      "text/plain": [
       "<matplotlib.figure.Figure at 0x5739a90>"
      ]
     },
     "metadata": {},
     "output_type": "display_data"
    }
   ],
   "source": [
    "sns.set_context(\"notebook\", font_scale=1.7)\n",
    "plt.figure(figsize=(12, 10))\n",
    "ax = sns.heatmap(quotation_freq_df,square=True,linewidths=.2)\n",
    "ax.set_title(\"Density of quotations to books of the Aeneid  (50 line chunks)\")\n",
    "ax.set_xlabel('Lines')\n",
    "ax.set_ylabel('Books')"
   ]
  },
  {
   "cell_type": "code",
   "execution_count": 17,
   "metadata": {
    "collapsed": false
   },
   "outputs": [],
   "source": [
    "ax.figure.savefig('quotation_freq_heatmap.png')\n"
   ]
  },
  {
   "cell_type": "markdown",
   "metadata": {},
   "source": [
    "## Get the Latin text of the Aeneid from Perseus"
   ]
  },
  {
   "cell_type": "markdown",
   "metadata": {},
   "source": [
    "http://cts.perseids.org/api/cts/?request=GetPassagePlus&urn=urn:cts:latinLit:phi0690.phi003:1.1\n",
    "\n",
    "\n",
    "or simply download this https://github.com/PerseusDL/canonical-latinLit/blob/master/data/phi0690/phi003/phi0690.phi003.perseus-lat2.xml\n",
    "\n",
    "and parse it with BeautifoulSoup..."
   ]
  },
  {
   "cell_type": "code",
   "execution_count": 1,
   "metadata": {
    "collapsed": true
   },
   "outputs": [],
   "source": [
    "import urllib2\n",
    "import bs4\n",
    "from bs4 import BeautifulSoup"
   ]
  },
  {
   "cell_type": "code",
   "execution_count": 2,
   "metadata": {
    "collapsed": true
   },
   "outputs": [
    {
     "ename": "FeatureNotFound",
     "evalue": "Couldn't find a tree builder with the features you requested: xml. Do you need to install a parser library?",
     "output_type": "error",
     "traceback": [
      "\u001b[0;31m---------------------------------------------------------------------------\u001b[0m",
      "\u001b[0;31mFeatureNotFound\u001b[0m                           Traceback (most recent call last)",
      "\u001b[0;32m<ipython-input-2-bdb70d18a35d>\u001b[0m in \u001b[0;36m<module>\u001b[0;34m()\u001b[0m\n\u001b[1;32m      1\u001b[0m \u001b[0mperseus_aeneid_latin\u001b[0m \u001b[0;34m=\u001b[0m \u001b[0;34m\"https://raw.githubusercontent.com/PerseusDL/canonical-latinLit/master/data/phi0690/phi003/phi0690.phi003.perseus-lat2.xml\"\u001b[0m\u001b[0;34m\u001b[0m\u001b[0m\n\u001b[0;32m----> 2\u001b[0;31m \u001b[0msoup\u001b[0m \u001b[0;34m=\u001b[0m \u001b[0mBeautifulSoup\u001b[0m\u001b[0;34m(\u001b[0m\u001b[0murllib2\u001b[0m\u001b[0;34m.\u001b[0m\u001b[0murlopen\u001b[0m\u001b[0;34m(\u001b[0m\u001b[0mperseus_aeneid_latin\u001b[0m\u001b[0;34m)\u001b[0m\u001b[0;34m.\u001b[0m\u001b[0mread\u001b[0m\u001b[0;34m(\u001b[0m\u001b[0;34m)\u001b[0m\u001b[0;34m,\u001b[0m\u001b[0;34m\"xml\"\u001b[0m\u001b[0;34m)\u001b[0m\u001b[0;34m\u001b[0m\u001b[0m\n\u001b[0m\u001b[1;32m      3\u001b[0m \u001b[0mdivs\u001b[0m \u001b[0;34m=\u001b[0m \u001b[0msoup\u001b[0m\u001b[0;34m.\u001b[0m\u001b[0mfind_all\u001b[0m\u001b[0;34m(\u001b[0m\u001b[0;34m\"div\"\u001b[0m\u001b[0;34m,\u001b[0m\u001b[0msubtype\u001b[0m\u001b[0;34m=\u001b[0m\u001b[0;34m\"book\"\u001b[0m\u001b[0;34m,\u001b[0m\u001b[0mtype\u001b[0m\u001b[0;34m=\u001b[0m\u001b[0;34m\"textpart\"\u001b[0m\u001b[0;34m)\u001b[0m\u001b[0;34m\u001b[0m\u001b[0m\n",
      "\u001b[0;32m/Users/rromanello/.pyenv/versions/phd-py2/lib/python2.7/site-packages/bs4/__init__.pyc\u001b[0m in \u001b[0;36m__init__\u001b[0;34m(self, markup, features, builder, parse_only, from_encoding, exclude_encodings, **kwargs)\u001b[0m\n\u001b[1;32m    163\u001b[0m                     \u001b[0;34m\"Couldn't find a tree builder with the features you \"\u001b[0m\u001b[0;34m\u001b[0m\u001b[0m\n\u001b[1;32m    164\u001b[0m                     \u001b[0;34m\"requested: %s. Do you need to install a parser library?\"\u001b[0m\u001b[0;34m\u001b[0m\u001b[0m\n\u001b[0;32m--> 165\u001b[0;31m                     % \",\".join(features))\n\u001b[0m\u001b[1;32m    166\u001b[0m             \u001b[0mbuilder\u001b[0m \u001b[0;34m=\u001b[0m \u001b[0mbuilder_class\u001b[0m\u001b[0;34m(\u001b[0m\u001b[0;34m)\u001b[0m\u001b[0;34m\u001b[0m\u001b[0m\n\u001b[1;32m    167\u001b[0m             if not (original_features == builder.NAME or\n",
      "\u001b[0;31mFeatureNotFound\u001b[0m: Couldn't find a tree builder with the features you requested: xml. Do you need to install a parser library?"
     ]
    }
   ],
   "source": [
    "perseus_aeneid_latin = \"https://raw.githubusercontent.com/PerseusDL/canonical-latinLit/master/data/phi0690/phi003/phi0690.phi003.perseus-lat2.xml\"\n",
    "soup = BeautifulSoup(urllib2.urlopen(perseus_aeneid_latin).read(),\"xml\")\n",
    "divs = soup.find_all(\"div\",subtype=\"book\",type=\"textpart\")"
   ]
  },
  {
   "cell_type": "code",
   "execution_count": 3,
   "metadata": {
    "collapsed": true
   },
   "outputs": [],
   "source": [
    "def create_chunks(l, n):\n",
    "    \"\"\"Yield successive n-sized chunks from l.\"\"\"\n",
    "    for i in xrange(0, len(l), n):\n",
    "        yield l[i:i+n]\n",
    "\n",
    "chunks = {(bin[0],bin[-1]):bin for bin in list(create_chunks(range(1,1001),50))}"
   ]
  },
  {
   "cell_type": "code",
   "execution_count": 4,
   "metadata": {
    "collapsed": true
   },
   "outputs": [],
   "source": [
    "def find_chunk(line_number, chunks):\n",
    "    for start_line, end_line in chunks:\n",
    "        if(line_number >= start_line and line_number <= end_line):\n",
    "            return start_line,end_line"
   ]
  },
  {
   "cell_type": "code",
   "execution_count": null,
   "metadata": {
    "collapsed": true
   },
   "outputs": [],
   "source": [
    "text = {}\n",
    "for div in divs:\n",
    "    text[div[\"n\"]] = {\"%i-%i\"%(start_line,end_line):[] for start_line, end_line in chunks}"
   ]
  },
  {
   "cell_type": "code",
   "execution_count": null,
   "metadata": {
    "collapsed": true
   },
   "outputs": [],
   "source": [
    "for div in divs:\n",
    "    lines = div.find_all(\"l\")\n",
    "    for line in lines:\n",
    "        if(not line[\"n\"]==\"62b\"):\n",
    "            text[div[\"n\"]][\"%i-%i\"%(find_chunk(int(line[\"n\"]),chunks))].append({\"line\":\"%s.%s\"%(div[\"n\"],line[\"n\"]),\"text\":line.text})\n",
    "        else:\n",
    "            prev_line = text[div[\"n\"]][\"%i-%i\"%(find_chunk(int(line[\"n\"][:-1]),chunks))].pop()\n",
    "            prev_line[\"text\"] = \"%s %s\"%(prev_line[\"text\"],line.text)\n",
    "            text[div[\"n\"]][\"%i-%i\"%(find_chunk(int(line[\"n\"][:-1]),chunks))].append(prev_line)§"
   ]
  },
  {
   "cell_type": "code",
   "execution_count": null,
   "metadata": {
    "collapsed": true
   },
   "outputs": [],
   "source": [
    "output = []\n",
    "for book_n in text.keys():\n",
    "    for chunk in text[book_n].keys():\n",
    "        temp = {\n",
    "        \"book\": book_n\n",
    "        ,\"chunk\" : chunk\n",
    "        ,\"lines\" : text[book_n][chunk]\n",
    "    }\n",
    "        output.append(temp)\n",
    "        "
   ]
  },
  {
   "cell_type": "code",
   "execution_count": null,
   "metadata": {
    "collapsed": true
   },
   "outputs": [],
   "source": [
    "outf = codecs.open(\"/media/romanell_files/tmp/aeneid.json\",\"w\",\"utf-8\")\n",
    "json.dump(output,outf,encoding=\"utf-8\")\n",
    "outf.close()"
   ]
  }
 ],
 "metadata": {
  "kernelspec": {
   "display_name": "Python 2",
   "language": "python",
   "name": "python2"
  },
  "language_info": {
   "codemirror_mode": {
    "name": "ipython",
    "version": 2
   },
   "file_extension": ".py",
   "mimetype": "text/x-python",
   "name": "python",
   "nbconvert_exporter": "python",
   "pygments_lexer": "ipython2",
   "version": "2.7.6"
  }
 },
 "nbformat": 4,
 "nbformat_minor": 0
}
