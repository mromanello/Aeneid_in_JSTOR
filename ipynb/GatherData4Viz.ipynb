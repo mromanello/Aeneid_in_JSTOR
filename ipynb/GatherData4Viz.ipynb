{
 "cells": [
  {
   "cell_type": "markdown",
   "metadata": {
    "collapsed": true
   },
   "source": [
    "## Rationale for the visualisation"
   ]
  },
  {
   "cell_type": "markdown",
   "metadata": {},
   "source": [
    "* generate bins of size 50 from 1 to 1,000\n",
    "* the *Aeneid* contains 12 books (see dictionary below for consistency)\n",
    "* create a matrix of 12 rows x 20 columns (dict of dicts)\n",
    "    * initialise the value of each bin to 0 or None (if the bin scope falls outside the number of lines in the book)\n",
    "* iterate through the results of the API and increment the count"
   ]
  },
  {
   "cell_type": "markdown",
   "metadata": {},
   "source": [
    "1. generate empty matrix\n",
    "2. get and store JSTOR MatchMaker data (quotations)\n",
    "3. get and store CREX data (references)\n",
    "4. iterate through quotations and update matrix\n",
    "5. iterate through references and update matrix\n",
    "6. output data in a d3.js-friendly JSON format"
   ]
  },
  {
   "cell_type": "code",
   "execution_count": 3,
   "metadata": {
    "collapsed": false
   },
   "outputs": [
    {
     "name": "stderr",
     "output_type": "stream",
     "text": [
      "/Users/rromanello/.pyenv/versions/phd-py2/lib/python2.7/site-packages/matplotlib/__init__.py:1350: UserWarning:  This call to matplotlib.use() has no effect\n",
      "because the backend has already been chosen;\n",
      "matplotlib.use() must be called *before* pylab, matplotlib.pyplot,\n",
      "or matplotlib.backends is imported for the first time.\n",
      "\n",
      "  warnings.warn(_use_error_msg)\n"
     ]
    }
   ],
   "source": [
    "import matplotlib; matplotlib.use('Agg')\n",
    "%matplotlib inline\n",
    "import ConfigParser\n",
    "import matplotlib.pyplot as plt\n",
    "import numpy as np\n",
    "import pandas as pd\n",
    "import pprint\n",
    "import json\n",
    "import requests\n",
    "import seaborn as sns;sns.set()\n",
    "#from MyCapytain.common.reference import URN"
   ]
  },
  {
   "cell_type": "code",
   "execution_count": 4,
   "metadata": {
    "collapsed": false
   },
   "outputs": [],
   "source": [
    "books = {\n",
    "\t1:756\n",
    "\t,2:804\n",
    "\t,3:719\n",
    "\t,4:705\n",
    "\t,5:871\n",
    "\t,6:901\n",
    "\t,7:817\n",
    "\t,8:731\n",
    "\t,9:818\n",
    "\t,10:908\n",
    "\t,11:915\n",
    "\t,12:952\n",
    "}"
   ]
  },
  {
   "cell_type": "code",
   "execution_count": 5,
   "metadata": {
    "collapsed": true
   },
   "outputs": [],
   "source": [
    "def chunks(l, n):\n",
    "    \"\"\"Yield successive n-sized chunks from l.\"\"\"\n",
    "    for i in xrange(0, len(l), n):\n",
    "        yield l[i:i+n]"
   ]
  },
  {
   "cell_type": "code",
   "execution_count": 6,
   "metadata": {
    "collapsed": false
   },
   "outputs": [],
   "source": [
    "quotation_freq_matrix = {}\n",
    "bins = {(bin[0],bin[-1]):bin for bin in list(chunks(range(1,1001),50))}\n",
    "for urn in sorted(books.keys()):\n",
    "    max_line_number = books[urn]\n",
    "    temp = {}\n",
    "    for range_start,range_end in bins.keys():\n",
    "        if (range_start < max_line_number and range_end <= max_line_number):\n",
    "            temp[\"%i-%i\"%(range_start,range_end)] = 0\n",
    "        elif(range_start < max_line_number and range_end > max_line_number):\n",
    "            temp[\"%i-%i\"%(range_start,range_end)] = 0\n",
    "        else:\n",
    "            temp[\"%i-%i\"%(range_start,range_end)] = np.nan\n",
    "    quotation_freq_matrix[urn] = temp"
   ]
  },
  {
   "cell_type": "code",
   "execution_count": 91,
   "metadata": {
    "collapsed": false
   },
   "outputs": [],
   "source": [
    "quotation_freq_df = pd.DataFrame.from_dict(quotation_freq_matrix)"
   ]
  },
  {
   "cell_type": "code",
   "execution_count": 93,
   "metadata": {
    "collapsed": false
   },
   "outputs": [
    {
     "data": {
      "text/html": [
       "<div>\n",
       "<table border=\"1\" class=\"dataframe\">\n",
       "  <thead>\n",
       "    <tr style=\"text-align: right;\">\n",
       "      <th></th>\n",
       "      <th>1</th>\n",
       "      <th>2</th>\n",
       "      <th>3</th>\n",
       "      <th>4</th>\n",
       "      <th>5</th>\n",
       "      <th>6</th>\n",
       "      <th>7</th>\n",
       "      <th>8</th>\n",
       "      <th>9</th>\n",
       "      <th>10</th>\n",
       "      <th>11</th>\n",
       "      <th>12</th>\n",
       "    </tr>\n",
       "  </thead>\n",
       "  <tbody>\n",
       "    <tr>\n",
       "      <th>1-50</th>\n",
       "      <td>0.0</td>\n",
       "      <td>0.0</td>\n",
       "      <td>0.0</td>\n",
       "      <td>0.0</td>\n",
       "      <td>0.0</td>\n",
       "      <td>0.0</td>\n",
       "      <td>0.0</td>\n",
       "      <td>0.0</td>\n",
       "      <td>0.0</td>\n",
       "      <td>0.0</td>\n",
       "      <td>0.0</td>\n",
       "      <td>0</td>\n",
       "    </tr>\n",
       "    <tr>\n",
       "      <th>101-150</th>\n",
       "      <td>0.0</td>\n",
       "      <td>0.0</td>\n",
       "      <td>0.0</td>\n",
       "      <td>0.0</td>\n",
       "      <td>0.0</td>\n",
       "      <td>0.0</td>\n",
       "      <td>0.0</td>\n",
       "      <td>0.0</td>\n",
       "      <td>0.0</td>\n",
       "      <td>0.0</td>\n",
       "      <td>0.0</td>\n",
       "      <td>0</td>\n",
       "    </tr>\n",
       "    <tr>\n",
       "      <th>151-200</th>\n",
       "      <td>0.0</td>\n",
       "      <td>0.0</td>\n",
       "      <td>0.0</td>\n",
       "      <td>0.0</td>\n",
       "      <td>0.0</td>\n",
       "      <td>0.0</td>\n",
       "      <td>0.0</td>\n",
       "      <td>0.0</td>\n",
       "      <td>0.0</td>\n",
       "      <td>0.0</td>\n",
       "      <td>0.0</td>\n",
       "      <td>0</td>\n",
       "    </tr>\n",
       "    <tr>\n",
       "      <th>201-250</th>\n",
       "      <td>0.0</td>\n",
       "      <td>0.0</td>\n",
       "      <td>0.0</td>\n",
       "      <td>0.0</td>\n",
       "      <td>0.0</td>\n",
       "      <td>0.0</td>\n",
       "      <td>0.0</td>\n",
       "      <td>0.0</td>\n",
       "      <td>0.0</td>\n",
       "      <td>0.0</td>\n",
       "      <td>0.0</td>\n",
       "      <td>0</td>\n",
       "    </tr>\n",
       "    <tr>\n",
       "      <th>251-300</th>\n",
       "      <td>0.0</td>\n",
       "      <td>0.0</td>\n",
       "      <td>0.0</td>\n",
       "      <td>0.0</td>\n",
       "      <td>0.0</td>\n",
       "      <td>0.0</td>\n",
       "      <td>0.0</td>\n",
       "      <td>0.0</td>\n",
       "      <td>0.0</td>\n",
       "      <td>0.0</td>\n",
       "      <td>0.0</td>\n",
       "      <td>0</td>\n",
       "    </tr>\n",
       "    <tr>\n",
       "      <th>301-350</th>\n",
       "      <td>0.0</td>\n",
       "      <td>0.0</td>\n",
       "      <td>0.0</td>\n",
       "      <td>0.0</td>\n",
       "      <td>0.0</td>\n",
       "      <td>0.0</td>\n",
       "      <td>0.0</td>\n",
       "      <td>0.0</td>\n",
       "      <td>0.0</td>\n",
       "      <td>0.0</td>\n",
       "      <td>0.0</td>\n",
       "      <td>0</td>\n",
       "    </tr>\n",
       "    <tr>\n",
       "      <th>351-400</th>\n",
       "      <td>0.0</td>\n",
       "      <td>0.0</td>\n",
       "      <td>0.0</td>\n",
       "      <td>0.0</td>\n",
       "      <td>0.0</td>\n",
       "      <td>0.0</td>\n",
       "      <td>0.0</td>\n",
       "      <td>0.0</td>\n",
       "      <td>0.0</td>\n",
       "      <td>0.0</td>\n",
       "      <td>0.0</td>\n",
       "      <td>0</td>\n",
       "    </tr>\n",
       "    <tr>\n",
       "      <th>401-450</th>\n",
       "      <td>0.0</td>\n",
       "      <td>0.0</td>\n",
       "      <td>0.0</td>\n",
       "      <td>0.0</td>\n",
       "      <td>0.0</td>\n",
       "      <td>0.0</td>\n",
       "      <td>0.0</td>\n",
       "      <td>0.0</td>\n",
       "      <td>0.0</td>\n",
       "      <td>0.0</td>\n",
       "      <td>0.0</td>\n",
       "      <td>0</td>\n",
       "    </tr>\n",
       "    <tr>\n",
       "      <th>451-500</th>\n",
       "      <td>0.0</td>\n",
       "      <td>0.0</td>\n",
       "      <td>0.0</td>\n",
       "      <td>0.0</td>\n",
       "      <td>0.0</td>\n",
       "      <td>0.0</td>\n",
       "      <td>0.0</td>\n",
       "      <td>0.0</td>\n",
       "      <td>0.0</td>\n",
       "      <td>0.0</td>\n",
       "      <td>0.0</td>\n",
       "      <td>0</td>\n",
       "    </tr>\n",
       "    <tr>\n",
       "      <th>501-550</th>\n",
       "      <td>0.0</td>\n",
       "      <td>0.0</td>\n",
       "      <td>0.0</td>\n",
       "      <td>0.0</td>\n",
       "      <td>0.0</td>\n",
       "      <td>0.0</td>\n",
       "      <td>0.0</td>\n",
       "      <td>0.0</td>\n",
       "      <td>0.0</td>\n",
       "      <td>0.0</td>\n",
       "      <td>0.0</td>\n",
       "      <td>0</td>\n",
       "    </tr>\n",
       "    <tr>\n",
       "      <th>51-100</th>\n",
       "      <td>0.0</td>\n",
       "      <td>0.0</td>\n",
       "      <td>0.0</td>\n",
       "      <td>0.0</td>\n",
       "      <td>0.0</td>\n",
       "      <td>0.0</td>\n",
       "      <td>0.0</td>\n",
       "      <td>0.0</td>\n",
       "      <td>0.0</td>\n",
       "      <td>0.0</td>\n",
       "      <td>0.0</td>\n",
       "      <td>0</td>\n",
       "    </tr>\n",
       "    <tr>\n",
       "      <th>551-600</th>\n",
       "      <td>0.0</td>\n",
       "      <td>0.0</td>\n",
       "      <td>0.0</td>\n",
       "      <td>0.0</td>\n",
       "      <td>0.0</td>\n",
       "      <td>0.0</td>\n",
       "      <td>0.0</td>\n",
       "      <td>0.0</td>\n",
       "      <td>0.0</td>\n",
       "      <td>0.0</td>\n",
       "      <td>0.0</td>\n",
       "      <td>0</td>\n",
       "    </tr>\n",
       "    <tr>\n",
       "      <th>601-650</th>\n",
       "      <td>0.0</td>\n",
       "      <td>0.0</td>\n",
       "      <td>0.0</td>\n",
       "      <td>0.0</td>\n",
       "      <td>0.0</td>\n",
       "      <td>0.0</td>\n",
       "      <td>0.0</td>\n",
       "      <td>0.0</td>\n",
       "      <td>0.0</td>\n",
       "      <td>0.0</td>\n",
       "      <td>0.0</td>\n",
       "      <td>0</td>\n",
       "    </tr>\n",
       "    <tr>\n",
       "      <th>651-700</th>\n",
       "      <td>0.0</td>\n",
       "      <td>0.0</td>\n",
       "      <td>0.0</td>\n",
       "      <td>0.0</td>\n",
       "      <td>0.0</td>\n",
       "      <td>0.0</td>\n",
       "      <td>0.0</td>\n",
       "      <td>0.0</td>\n",
       "      <td>0.0</td>\n",
       "      <td>0.0</td>\n",
       "      <td>0.0</td>\n",
       "      <td>0</td>\n",
       "    </tr>\n",
       "    <tr>\n",
       "      <th>701-750</th>\n",
       "      <td>0.0</td>\n",
       "      <td>0.0</td>\n",
       "      <td>0.0</td>\n",
       "      <td>0.0</td>\n",
       "      <td>0.0</td>\n",
       "      <td>0.0</td>\n",
       "      <td>0.0</td>\n",
       "      <td>0.0</td>\n",
       "      <td>0.0</td>\n",
       "      <td>0.0</td>\n",
       "      <td>0.0</td>\n",
       "      <td>0</td>\n",
       "    </tr>\n",
       "    <tr>\n",
       "      <th>751-800</th>\n",
       "      <td>0.0</td>\n",
       "      <td>0.0</td>\n",
       "      <td>NaN</td>\n",
       "      <td>NaN</td>\n",
       "      <td>0.0</td>\n",
       "      <td>0.0</td>\n",
       "      <td>0.0</td>\n",
       "      <td>NaN</td>\n",
       "      <td>0.0</td>\n",
       "      <td>0.0</td>\n",
       "      <td>0.0</td>\n",
       "      <td>0</td>\n",
       "    </tr>\n",
       "    <tr>\n",
       "      <th>801-850</th>\n",
       "      <td>NaN</td>\n",
       "      <td>0.0</td>\n",
       "      <td>NaN</td>\n",
       "      <td>NaN</td>\n",
       "      <td>0.0</td>\n",
       "      <td>0.0</td>\n",
       "      <td>0.0</td>\n",
       "      <td>NaN</td>\n",
       "      <td>0.0</td>\n",
       "      <td>0.0</td>\n",
       "      <td>0.0</td>\n",
       "      <td>0</td>\n",
       "    </tr>\n",
       "    <tr>\n",
       "      <th>851-900</th>\n",
       "      <td>NaN</td>\n",
       "      <td>NaN</td>\n",
       "      <td>NaN</td>\n",
       "      <td>NaN</td>\n",
       "      <td>0.0</td>\n",
       "      <td>0.0</td>\n",
       "      <td>NaN</td>\n",
       "      <td>NaN</td>\n",
       "      <td>NaN</td>\n",
       "      <td>0.0</td>\n",
       "      <td>0.0</td>\n",
       "      <td>0</td>\n",
       "    </tr>\n",
       "    <tr>\n",
       "      <th>901-950</th>\n",
       "      <td>NaN</td>\n",
       "      <td>NaN</td>\n",
       "      <td>NaN</td>\n",
       "      <td>NaN</td>\n",
       "      <td>NaN</td>\n",
       "      <td>NaN</td>\n",
       "      <td>NaN</td>\n",
       "      <td>NaN</td>\n",
       "      <td>NaN</td>\n",
       "      <td>0.0</td>\n",
       "      <td>0.0</td>\n",
       "      <td>0</td>\n",
       "    </tr>\n",
       "    <tr>\n",
       "      <th>951-1000</th>\n",
       "      <td>NaN</td>\n",
       "      <td>NaN</td>\n",
       "      <td>NaN</td>\n",
       "      <td>NaN</td>\n",
       "      <td>NaN</td>\n",
       "      <td>NaN</td>\n",
       "      <td>NaN</td>\n",
       "      <td>NaN</td>\n",
       "      <td>NaN</td>\n",
       "      <td>NaN</td>\n",
       "      <td>NaN</td>\n",
       "      <td>0</td>\n",
       "    </tr>\n",
       "  </tbody>\n",
       "</table>\n",
       "</div>"
      ],
      "text/plain": [
       "           1    2    3    4    5    6    7    8    9    10   11  12\n",
       "1-50      0.0  0.0  0.0  0.0  0.0  0.0  0.0  0.0  0.0  0.0  0.0   0\n",
       "101-150   0.0  0.0  0.0  0.0  0.0  0.0  0.0  0.0  0.0  0.0  0.0   0\n",
       "151-200   0.0  0.0  0.0  0.0  0.0  0.0  0.0  0.0  0.0  0.0  0.0   0\n",
       "201-250   0.0  0.0  0.0  0.0  0.0  0.0  0.0  0.0  0.0  0.0  0.0   0\n",
       "251-300   0.0  0.0  0.0  0.0  0.0  0.0  0.0  0.0  0.0  0.0  0.0   0\n",
       "301-350   0.0  0.0  0.0  0.0  0.0  0.0  0.0  0.0  0.0  0.0  0.0   0\n",
       "351-400   0.0  0.0  0.0  0.0  0.0  0.0  0.0  0.0  0.0  0.0  0.0   0\n",
       "401-450   0.0  0.0  0.0  0.0  0.0  0.0  0.0  0.0  0.0  0.0  0.0   0\n",
       "451-500   0.0  0.0  0.0  0.0  0.0  0.0  0.0  0.0  0.0  0.0  0.0   0\n",
       "501-550   0.0  0.0  0.0  0.0  0.0  0.0  0.0  0.0  0.0  0.0  0.0   0\n",
       "51-100    0.0  0.0  0.0  0.0  0.0  0.0  0.0  0.0  0.0  0.0  0.0   0\n",
       "551-600   0.0  0.0  0.0  0.0  0.0  0.0  0.0  0.0  0.0  0.0  0.0   0\n",
       "601-650   0.0  0.0  0.0  0.0  0.0  0.0  0.0  0.0  0.0  0.0  0.0   0\n",
       "651-700   0.0  0.0  0.0  0.0  0.0  0.0  0.0  0.0  0.0  0.0  0.0   0\n",
       "701-750   0.0  0.0  0.0  0.0  0.0  0.0  0.0  0.0  0.0  0.0  0.0   0\n",
       "751-800   0.0  0.0  NaN  NaN  0.0  0.0  0.0  NaN  0.0  0.0  0.0   0\n",
       "801-850   NaN  0.0  NaN  NaN  0.0  0.0  0.0  NaN  0.0  0.0  0.0   0\n",
       "851-900   NaN  NaN  NaN  NaN  0.0  0.0  NaN  NaN  NaN  0.0  0.0   0\n",
       "901-950   NaN  NaN  NaN  NaN  NaN  NaN  NaN  NaN  NaN  0.0  0.0   0\n",
       "951-1000  NaN  NaN  NaN  NaN  NaN  NaN  NaN  NaN  NaN  NaN  NaN   0"
      ]
     },
     "execution_count": 93,
     "metadata": {},
     "output_type": "execute_result"
    }
   ],
   "source": [
    "quotation_freq_df"
   ]
  },
  {
   "cell_type": "code",
   "execution_count": 96,
   "metadata": {
    "collapsed": false
   },
   "outputs": [],
   "source": [
    "data = json.loads(quotation_freq_df.to_json(orient=\"split\"))"
   ]
  },
  {
   "cell_type": "code",
   "execution_count": 98,
   "metadata": {
    "collapsed": false
   },
   "outputs": [],
   "source": [
    "#data"
   ]
  },
  {
   "cell_type": "code",
   "execution_count": 99,
   "metadata": {
    "collapsed": false
   },
   "outputs": [],
   "source": [
    "temp = [{\"chunk\":data[\"index\"][i]\n",
    "  ,\"book\":data[\"columns\"][j]\n",
    "  ,\"count\":book} for i,chunk in enumerate(data[\"data\"]) \n",
    "                                                         for j,book in enumerate(chunk)]"
   ]
  },
  {
   "cell_type": "code",
   "execution_count": 100,
   "metadata": {
    "collapsed": true
   },
   "outputs": [],
   "source": [
    "import codecs"
   ]
  },
  {
   "cell_type": "code",
   "execution_count": 101,
   "metadata": {
    "collapsed": false
   },
   "outputs": [],
   "source": [
    "outf = codecs.open(\"../data/quot_freq_empty2.json\",\"w\",\"utf-8\")"
   ]
  },
  {
   "cell_type": "code",
   "execution_count": 102,
   "metadata": {
    "collapsed": true
   },
   "outputs": [],
   "source": [
    "json.dump(temp, outf)"
   ]
  },
  {
   "cell_type": "markdown",
   "metadata": {},
   "source": [
    "## Query the MatchMaker API"
   ]
  },
  {
   "cell_type": "markdown",
   "metadata": {},
   "source": [
    "### Add to the API's response the CTS URNs"
   ]
  },
  {
   "cell_type": "code",
   "execution_count": 2,
   "metadata": {
    "collapsed": true
   },
   "outputs": [],
   "source": [
    "parameters = {'work':'virgil_aeneid','limit':50000}"
   ]
  },
  {
   "cell_type": "code",
   "execution_count": 3,
   "metadata": {
    "collapsed": false
   },
   "outputs": [
    {
     "data": {
      "text/plain": [
       "['authentication.conf']"
      ]
     },
     "execution_count": 3,
     "metadata": {},
     "output_type": "execute_result"
    }
   ],
   "source": [
    "config = ConfigParser.ConfigParser(allow_no_value=True)\n",
    "config.read(\"authentication.conf\")"
   ]
  },
  {
   "cell_type": "code",
   "execution_count": 4,
   "metadata": {
    "collapsed": false
   },
   "outputs": [],
   "source": [
    "response = requests.get('http://labs.jstor.org/apis/matchmaker/',params=parameters, auth=('mromanello','chohuka5'))"
   ]
  },
  {
   "cell_type": "code",
   "execution_count": 5,
   "metadata": {
    "collapsed": false
   },
   "outputs": [
    {
     "name": "stdout",
     "output_type": "stream",
     "text": [
      "[u'count', u'docs', u'previous', u'qtime', u'next']\n",
      "11228\n"
     ]
    }
   ],
   "source": [
    "data = response.json()\n",
    "print data.keys()\n",
    "print data[\"count\"]"
   ]
  },
  {
   "cell_type": "code",
   "execution_count": 9,
   "metadata": {
    "collapsed": false
   },
   "outputs": [
    {
     "name": "stdout",
     "output_type": "stream",
     "text": [
      "11228\n"
     ]
    }
   ],
   "source": [
    "print data['count']"
   ]
  },
  {
   "cell_type": "code",
   "execution_count": 6,
   "metadata": {
    "collapsed": false
   },
   "outputs": [],
   "source": [
    "for doc in data[\"docs\"]:\n",
    "    doc[\"chunk_urns\"]  = [chunk_id.replace('<verg. aen. ','urn:cts:latinLit:phi0690.phi003:') .replace('>','')\n",
    "                               for chunk_id in doc[\"chunk_ids\"]]"
   ]
  },
  {
   "cell_type": "markdown",
   "metadata": {
    "collapsed": true
   },
   "source": [
    "### Iterate over the data and update the quotation frequency count"
   ]
  },
  {
   "cell_type": "code",
   "execution_count": 7,
   "metadata": {
    "collapsed": false
   },
   "outputs": [],
   "source": [
    "quoted_urns = [urn for doc in data[\"docs\"] for urn in doc[\"chunk_urns\"]]"
   ]
  },
  {
   "cell_type": "code",
   "execution_count": 8,
   "metadata": {
    "collapsed": false
   },
   "outputs": [
    {
     "data": {
      "text/plain": [
       "29941"
      ]
     },
     "execution_count": 8,
     "metadata": {},
     "output_type": "execute_result"
    }
   ],
   "source": [
    "len(quoted_urns)"
   ]
  },
  {
   "cell_type": "markdown",
   "metadata": {},
   "source": [
    "**Note**: \n",
    "- this way of counting the frequency has the problem of giving more importance to longer quotations\n",
    "- to fix this, \"compress\" quotations before updating the count"
   ]
  },
  {
   "cell_type": "code",
   "execution_count": 14,
   "metadata": {
    "collapsed": false
   },
   "outputs": [],
   "source": [
    "for urn in quoted_urns:\n",
    "    quoted_urn = URN(urn)\n",
    "    book_n, line_n = quoted_urn.reference.list\n",
    "    book_n = int(book_n)\n",
    "    line_n = int(line_n)\n",
    "    for start_range,end_range in bins:\n",
    "        if (line_n >= start_range and line_n <= end_range):\n",
    "            quotation_freq_df.loc[book_n][\"%i-%i\"%(start_range,end_range)]+=1"
   ]
  },
  {
   "cell_type": "code",
   "execution_count": 15,
   "metadata": {
    "collapsed": false
   },
   "outputs": [
    {
     "data": {
      "text/html": [
       "<div>\n",
       "<table border=\"1\" class=\"dataframe\">\n",
       "  <thead>\n",
       "    <tr style=\"text-align: right;\">\n",
       "      <th></th>\n",
       "      <th>1-50</th>\n",
       "      <th>51-100</th>\n",
       "      <th>101-150</th>\n",
       "      <th>151-200</th>\n",
       "      <th>201-250</th>\n",
       "      <th>251-300</th>\n",
       "      <th>301-350</th>\n",
       "      <th>351-400</th>\n",
       "      <th>401-450</th>\n",
       "      <th>451-500</th>\n",
       "      <th>501-550</th>\n",
       "      <th>551-600</th>\n",
       "      <th>601-650</th>\n",
       "      <th>651-700</th>\n",
       "      <th>701-750</th>\n",
       "      <th>751-800</th>\n",
       "      <th>801-850</th>\n",
       "      <th>851-900</th>\n",
       "      <th>901-950</th>\n",
       "      <th>951-1000</th>\n",
       "    </tr>\n",
       "  </thead>\n",
       "  <tbody>\n",
       "    <tr>\n",
       "      <th>1</th>\n",
       "      <td>592</td>\n",
       "      <td>326</td>\n",
       "      <td>219</td>\n",
       "      <td>187</td>\n",
       "      <td>284</td>\n",
       "      <td>404</td>\n",
       "      <td>191</td>\n",
       "      <td>180</td>\n",
       "      <td>263</td>\n",
       "      <td>559</td>\n",
       "      <td>144</td>\n",
       "      <td>130</td>\n",
       "      <td>109</td>\n",
       "      <td>106</td>\n",
       "      <td>224</td>\n",
       "      <td>63</td>\n",
       "      <td>NaN</td>\n",
       "      <td>NaN</td>\n",
       "      <td>NaN</td>\n",
       "      <td>NaN</td>\n",
       "    </tr>\n",
       "    <tr>\n",
       "      <th>2</th>\n",
       "      <td>224</td>\n",
       "      <td>85</td>\n",
       "      <td>80</td>\n",
       "      <td>169</td>\n",
       "      <td>229</td>\n",
       "      <td>234</td>\n",
       "      <td>169</td>\n",
       "      <td>192</td>\n",
       "      <td>135</td>\n",
       "      <td>175</td>\n",
       "      <td>232</td>\n",
       "      <td>264</td>\n",
       "      <td>262</td>\n",
       "      <td>143</td>\n",
       "      <td>164</td>\n",
       "      <td>231</td>\n",
       "      <td>21</td>\n",
       "      <td>NaN</td>\n",
       "      <td>NaN</td>\n",
       "      <td>NaN</td>\n",
       "    </tr>\n",
       "    <tr>\n",
       "      <th>3</th>\n",
       "      <td>184</td>\n",
       "      <td>176</td>\n",
       "      <td>113</td>\n",
       "      <td>130</td>\n",
       "      <td>85</td>\n",
       "      <td>103</td>\n",
       "      <td>144</td>\n",
       "      <td>104</td>\n",
       "      <td>81</td>\n",
       "      <td>103</td>\n",
       "      <td>113</td>\n",
       "      <td>116</td>\n",
       "      <td>80</td>\n",
       "      <td>125</td>\n",
       "      <td>120</td>\n",
       "      <td>NaN</td>\n",
       "      <td>NaN</td>\n",
       "      <td>NaN</td>\n",
       "      <td>NaN</td>\n",
       "      <td>NaN</td>\n",
       "    </tr>\n",
       "    <tr>\n",
       "      <th>4</th>\n",
       "      <td>269</td>\n",
       "      <td>380</td>\n",
       "      <td>153</td>\n",
       "      <td>252</td>\n",
       "      <td>152</td>\n",
       "      <td>278</td>\n",
       "      <td>300</td>\n",
       "      <td>267</td>\n",
       "      <td>278</td>\n",
       "      <td>174</td>\n",
       "      <td>140</td>\n",
       "      <td>187</td>\n",
       "      <td>212</td>\n",
       "      <td>339</td>\n",
       "      <td>38</td>\n",
       "      <td>NaN</td>\n",
       "      <td>NaN</td>\n",
       "      <td>NaN</td>\n",
       "      <td>NaN</td>\n",
       "      <td>NaN</td>\n",
       "    </tr>\n",
       "    <tr>\n",
       "      <th>5</th>\n",
       "      <td>146</td>\n",
       "      <td>82</td>\n",
       "      <td>50</td>\n",
       "      <td>86</td>\n",
       "      <td>55</td>\n",
       "      <td>89</td>\n",
       "      <td>46</td>\n",
       "      <td>37</td>\n",
       "      <td>24</td>\n",
       "      <td>69</td>\n",
       "      <td>79</td>\n",
       "      <td>128</td>\n",
       "      <td>76</td>\n",
       "      <td>86</td>\n",
       "      <td>113</td>\n",
       "      <td>77</td>\n",
       "      <td>121</td>\n",
       "      <td>93</td>\n",
       "      <td>NaN</td>\n",
       "      <td>NaN</td>\n",
       "    </tr>\n",
       "    <tr>\n",
       "      <th>6</th>\n",
       "      <td>354</td>\n",
       "      <td>226</td>\n",
       "      <td>312</td>\n",
       "      <td>101</td>\n",
       "      <td>100</td>\n",
       "      <td>330</td>\n",
       "      <td>265</td>\n",
       "      <td>172</td>\n",
       "      <td>232</td>\n",
       "      <td>308</td>\n",
       "      <td>177</td>\n",
       "      <td>145</td>\n",
       "      <td>267</td>\n",
       "      <td>207</td>\n",
       "      <td>350</td>\n",
       "      <td>323</td>\n",
       "      <td>396</td>\n",
       "      <td>611</td>\n",
       "      <td>NaN</td>\n",
       "      <td>NaN</td>\n",
       "    </tr>\n",
       "    <tr>\n",
       "      <th>7</th>\n",
       "      <td>246</td>\n",
       "      <td>144</td>\n",
       "      <td>153</td>\n",
       "      <td>119</td>\n",
       "      <td>101</td>\n",
       "      <td>71</td>\n",
       "      <td>135</td>\n",
       "      <td>127</td>\n",
       "      <td>111</td>\n",
       "      <td>149</td>\n",
       "      <td>116</td>\n",
       "      <td>142</td>\n",
       "      <td>143</td>\n",
       "      <td>74</td>\n",
       "      <td>88</td>\n",
       "      <td>149</td>\n",
       "      <td>138</td>\n",
       "      <td>NaN</td>\n",
       "      <td>NaN</td>\n",
       "      <td>NaN</td>\n",
       "    </tr>\n",
       "    <tr>\n",
       "      <th>8</th>\n",
       "      <td>138</td>\n",
       "      <td>143</td>\n",
       "      <td>99</td>\n",
       "      <td>111</td>\n",
       "      <td>121</td>\n",
       "      <td>143</td>\n",
       "      <td>217</td>\n",
       "      <td>253</td>\n",
       "      <td>143</td>\n",
       "      <td>80</td>\n",
       "      <td>135</td>\n",
       "      <td>116</td>\n",
       "      <td>142</td>\n",
       "      <td>168</td>\n",
       "      <td>169</td>\n",
       "      <td>NaN</td>\n",
       "      <td>NaN</td>\n",
       "      <td>NaN</td>\n",
       "      <td>NaN</td>\n",
       "      <td>NaN</td>\n",
       "    </tr>\n",
       "    <tr>\n",
       "      <th>9</th>\n",
       "      <td>88</td>\n",
       "      <td>68</td>\n",
       "      <td>100</td>\n",
       "      <td>138</td>\n",
       "      <td>83</td>\n",
       "      <td>60</td>\n",
       "      <td>104</td>\n",
       "      <td>76</td>\n",
       "      <td>264</td>\n",
       "      <td>70</td>\n",
       "      <td>25</td>\n",
       "      <td>30</td>\n",
       "      <td>133</td>\n",
       "      <td>28</td>\n",
       "      <td>53</td>\n",
       "      <td>113</td>\n",
       "      <td>39</td>\n",
       "      <td>NaN</td>\n",
       "      <td>NaN</td>\n",
       "      <td>NaN</td>\n",
       "    </tr>\n",
       "    <tr>\n",
       "      <th>10</th>\n",
       "      <td>80</td>\n",
       "      <td>37</td>\n",
       "      <td>69</td>\n",
       "      <td>62</td>\n",
       "      <td>58</td>\n",
       "      <td>103</td>\n",
       "      <td>17</td>\n",
       "      <td>43</td>\n",
       "      <td>74</td>\n",
       "      <td>131</td>\n",
       "      <td>191</td>\n",
       "      <td>67</td>\n",
       "      <td>63</td>\n",
       "      <td>20</td>\n",
       "      <td>95</td>\n",
       "      <td>90</td>\n",
       "      <td>208</td>\n",
       "      <td>129</td>\n",
       "      <td>28</td>\n",
       "      <td>NaN</td>\n",
       "    </tr>\n",
       "    <tr>\n",
       "      <th>11</th>\n",
       "      <td>103</td>\n",
       "      <td>139</td>\n",
       "      <td>97</td>\n",
       "      <td>62</td>\n",
       "      <td>57</td>\n",
       "      <td>141</td>\n",
       "      <td>72</td>\n",
       "      <td>96</td>\n",
       "      <td>76</td>\n",
       "      <td>117</td>\n",
       "      <td>55</td>\n",
       "      <td>122</td>\n",
       "      <td>49</td>\n",
       "      <td>39</td>\n",
       "      <td>43</td>\n",
       "      <td>130</td>\n",
       "      <td>100</td>\n",
       "      <td>42</td>\n",
       "      <td>14</td>\n",
       "      <td>NaN</td>\n",
       "    </tr>\n",
       "    <tr>\n",
       "      <th>12</th>\n",
       "      <td>116</td>\n",
       "      <td>155</td>\n",
       "      <td>80</td>\n",
       "      <td>162</td>\n",
       "      <td>98</td>\n",
       "      <td>63</td>\n",
       "      <td>89</td>\n",
       "      <td>76</td>\n",
       "      <td>170</td>\n",
       "      <td>65</td>\n",
       "      <td>92</td>\n",
       "      <td>91</td>\n",
       "      <td>49</td>\n",
       "      <td>114</td>\n",
       "      <td>75</td>\n",
       "      <td>71</td>\n",
       "      <td>234</td>\n",
       "      <td>189</td>\n",
       "      <td>433</td>\n",
       "      <td>20</td>\n",
       "    </tr>\n",
       "  </tbody>\n",
       "</table>\n",
       "</div>"
      ],
      "text/plain": [
       "    1-50  51-100  101-150  151-200  201-250  251-300  301-350  351-400  \\\n",
       "1    592     326      219      187      284      404      191      180   \n",
       "2    224      85       80      169      229      234      169      192   \n",
       "3    184     176      113      130       85      103      144      104   \n",
       "4    269     380      153      252      152      278      300      267   \n",
       "5    146      82       50       86       55       89       46       37   \n",
       "6    354     226      312      101      100      330      265      172   \n",
       "7    246     144      153      119      101       71      135      127   \n",
       "8    138     143       99      111      121      143      217      253   \n",
       "9     88      68      100      138       83       60      104       76   \n",
       "10    80      37       69       62       58      103       17       43   \n",
       "11   103     139       97       62       57      141       72       96   \n",
       "12   116     155       80      162       98       63       89       76   \n",
       "\n",
       "    401-450  451-500  501-550  551-600  601-650  651-700  701-750  751-800  \\\n",
       "1       263      559      144      130      109      106      224       63   \n",
       "2       135      175      232      264      262      143      164      231   \n",
       "3        81      103      113      116       80      125      120      NaN   \n",
       "4       278      174      140      187      212      339       38      NaN   \n",
       "5        24       69       79      128       76       86      113       77   \n",
       "6       232      308      177      145      267      207      350      323   \n",
       "7       111      149      116      142      143       74       88      149   \n",
       "8       143       80      135      116      142      168      169      NaN   \n",
       "9       264       70       25       30      133       28       53      113   \n",
       "10       74      131      191       67       63       20       95       90   \n",
       "11       76      117       55      122       49       39       43      130   \n",
       "12      170       65       92       91       49      114       75       71   \n",
       "\n",
       "    801-850  851-900  901-950  951-1000  \n",
       "1       NaN      NaN      NaN       NaN  \n",
       "2        21      NaN      NaN       NaN  \n",
       "3       NaN      NaN      NaN       NaN  \n",
       "4       NaN      NaN      NaN       NaN  \n",
       "5       121       93      NaN       NaN  \n",
       "6       396      611      NaN       NaN  \n",
       "7       138      NaN      NaN       NaN  \n",
       "8       NaN      NaN      NaN       NaN  \n",
       "9        39      NaN      NaN       NaN  \n",
       "10      208      129       28       NaN  \n",
       "11      100       42       14       NaN  \n",
       "12      234      189      433        20  "
      ]
     },
     "execution_count": 15,
     "metadata": {},
     "output_type": "execute_result"
    }
   ],
   "source": [
    "quotation_freq_df"
   ]
  },
  {
   "cell_type": "code",
   "execution_count": 16,
   "metadata": {
    "collapsed": false
   },
   "outputs": [
    {
     "data": {
      "text/plain": [
       "<matplotlib.text.Text at 0xefc6690>"
      ]
     },
     "execution_count": 16,
     "metadata": {},
     "output_type": "execute_result"
    },
    {
     "data": {
      "image/png": "[encoded data removed]",
      "text/plain": [
       "<matplotlib.figure.Figure at 0x5739a90>"
      ]
     },
     "metadata": {},
     "output_type": "display_data"
    }
   ],
   "source": [
    "sns.set_context(\"notebook\", font_scale=1.7)\n",
    "plt.figure(figsize=(12, 10))\n",
    "ax = sns.heatmap(quotation_freq_df,square=True,linewidths=.2)\n",
    "ax.set_title(\"Density of quotations to books of the Aeneid  (50 line chunks)\")\n",
    "ax.set_xlabel('Lines')\n",
    "ax.set_ylabel('Books')"
   ]
  },
  {
   "cell_type": "code",
   "execution_count": 17,
   "metadata": {
    "collapsed": false
   },
   "outputs": [],
   "source": [
    "ax.figure.savefig('quotation_freq_heatmap.png')\n"
   ]
  },
  {
   "cell_type": "markdown",
   "metadata": {},
   "source": [
    "## Get the Latin text of the Aeneid from Perseus (via CTS API) "
   ]
  },
  {
   "cell_type": "markdown",
   "metadata": {},
   "source": [
    "http://cts.perseids.org/api/cts/?request=GetPassagePlus&urn=urn:cts:latinLit:phi0690.phi003:1.1"
   ]
  },
  {
   "cell_type": "code",
   "execution_count": 2,
   "metadata": {
    "collapsed": false
   },
   "outputs": [
    {
     "ename": "ImportError",
     "evalue": "No module named MyCapytain",
     "output_type": "error",
     "traceback": [
      "\u001b[0;31m---------------------------------------------------------------------------\u001b[0m",
      "\u001b[0;31mImportError\u001b[0m                               Traceback (most recent call last)",
      "\u001b[0;32m<ipython-input-2-be072cf8e194>\u001b[0m in \u001b[0;36m<module>\u001b[0;34m()\u001b[0m\n\u001b[0;32m----> 1\u001b[0;31m \u001b[0;32mimport\u001b[0m \u001b[0mMyCapytain\u001b[0m\u001b[0;34m\u001b[0m\u001b[0m\n\u001b[0m",
      "\u001b[0;31mImportError\u001b[0m: No module named MyCapytain"
     ]
    }
   ],
   "source": [
    "import MyCapytain"
   ]
  },
  {
   "cell_type": "code",
   "execution_count": null,
   "metadata": {
    "collapsed": true
   },
   "outputs": [],
   "source": []
  }
 ],
 "metadata": {
  "kernelspec": {
   "display_name": "Python 2",
   "language": "python",
   "name": "python2"
  },
  "language_info": {
   "codemirror_mode": {
    "name": "ipython",
    "version": 2
   },
   "file_extension": ".py",
   "mimetype": "text/x-python",
   "name": "python",
   "nbconvert_exporter": "python",
   "pygments_lexer": "ipython2",
   "version": "2.7.6"
  }
 },
 "nbformat": 4,
 "nbformat_minor": 0
}
